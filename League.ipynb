{
  "nbformat": 4,
  "nbformat_minor": 0,
  "metadata": {
    "colab": {
      "name": "League.ipynb",
      "provenance": []
    },
    "kernelspec": {
      "name": "python3",
      "display_name": "Python 3"
    },
    "language_info": {
      "name": "python"
    }
  },
  "cells": [
    {
      "cell_type": "markdown",
      "metadata": {
        "id": "O1QY6iGftB_x"
      },
      "source": [
        "TODO:\n",
        "1. Match stats correlative to winning\n",
        "2. Ethan champ correlativee to winning\n",
        "3. Presence of Marcus\n",
        "4. Friends' presence to winning"
      ]
    },
    {
      "cell_type": "code",
      "metadata": {
        "colab": {
          "base_uri": "https://localhost:8080/"
        },
        "id": "1jqeI8qSf1N_",
        "outputId": "e502a413-a81a-456b-d13f-e437539d5bc5"
      },
      "source": [
        "pip install riotwatcher"
      ],
      "execution_count": 1,
      "outputs": [
        {
          "output_type": "stream",
          "text": [
            "Collecting riotwatcher\n",
            "  Downloading riotwatcher-3.1.3-py3-none-any.whl (55 kB)\n",
            "\u001b[?25l\r\u001b[K     |█████▉                          | 10 kB 17.9 MB/s eta 0:00:01\r\u001b[K     |███████████▊                    | 20 kB 9.8 MB/s eta 0:00:01\r\u001b[K     |█████████████████▋              | 30 kB 10.8 MB/s eta 0:00:01\r\u001b[K     |███████████████████████▍        | 40 kB 9.2 MB/s eta 0:00:01\r\u001b[K     |█████████████████████████████▎  | 51 kB 5.3 MB/s eta 0:00:01\r\u001b[K     |████████████████████████████████| 55 kB 1.5 MB/s \n",
            "\u001b[?25hRequirement already satisfied: requests in /usr/local/lib/python3.7/dist-packages (from riotwatcher) (2.23.0)\n",
            "Requirement already satisfied: chardet<4,>=3.0.2 in /usr/local/lib/python3.7/dist-packages (from requests->riotwatcher) (3.0.4)\n",
            "Requirement already satisfied: urllib3!=1.25.0,!=1.25.1,<1.26,>=1.21.1 in /usr/local/lib/python3.7/dist-packages (from requests->riotwatcher) (1.24.3)\n",
            "Requirement already satisfied: certifi>=2017.4.17 in /usr/local/lib/python3.7/dist-packages (from requests->riotwatcher) (2021.5.30)\n",
            "Requirement already satisfied: idna<3,>=2.5 in /usr/local/lib/python3.7/dist-packages (from requests->riotwatcher) (2.10)\n",
            "Installing collected packages: riotwatcher\n",
            "Successfully installed riotwatcher-3.1.3\n"
          ],
          "name": "stdout"
        }
      ]
    },
    {
      "cell_type": "code",
      "metadata": {
        "id": "NU88IrM0KGS6"
      },
      "source": [
        "import pandas as pd"
      ],
      "execution_count": 2,
      "outputs": []
    },
    {
      "cell_type": "code",
      "metadata": {
        "id": "o5sjNTNAhB7_"
      },
      "source": [
        "from riotwatcher import LolWatcher\n",
        "lol_watcher = LolWatcher('')\n",
        "my_region = 'na1'"
      ],
      "execution_count": 1,
      "outputs": []
    },
    {
      "cell_type": "code",
      "metadata": {
        "id": "Th4uy1nBhYtu"
      },
      "source": [
        "me = lol_watcher.summoner.by_name(my_region, 'LG Hunter 1')"
      ],
      "execution_count": 3,
      "outputs": []
    },
    {
      "cell_type": "code",
      "metadata": {
        "colab": {
          "base_uri": "https://localhost:8080/"
        },
        "id": "-16Aklwuhbji",
        "outputId": "77479202-d550-431e-b2ba-399ba42b4140"
      },
      "source": [
        "print(me)"
      ],
      "execution_count": 4,
      "outputs": [
        {
          "output_type": "stream",
          "text": [
            "{'id': 'gnzjdGBhD7M6B1kVbnGQyDd0Kd23GhbhURDzS0vj9xOP4Uo', 'accountId': '_WbxvxQmwX7PN75xcF6_kBKL8L7brKeap0Nd1lxAuQvtp5I', 'puuid': '9jU6iIey4R2DWR1M0rFNcGR5Wq_azWl4QwQkXiZI0Cuxn0vHq-C0wfsfXs3VdRyFILawOn1Ul87fqQ', 'name': 'LG Hunter 1', 'profileIconId': 1637, 'revisionDate': 1628317874000, 'summonerLevel': 167}\n"
          ],
          "name": "stdout"
        }
      ]
    },
    {
      "cell_type": "code",
      "metadata": {
        "colab": {
          "base_uri": "https://localhost:8080/"
        },
        "id": "nPTI7lsthe6e",
        "outputId": "bb0b5289-8a5a-4acb-b21c-88450ea3e90d"
      },
      "source": [
        "my_ranked_stats = lol_watcher.league.by_summoner(my_region, me['id'])\n",
        "print(my_ranked_stats)"
      ],
      "execution_count": 6,
      "outputs": [
        {
          "output_type": "stream",
          "text": [
            "[{'leagueId': 'd99dc8fa-e3d6-4bf6-8e08-b047d5227918', 'queueType': 'RANKED_SOLO_5x5', 'tier': 'GOLD', 'rank': 'II', 'summonerId': 'gnzjdGBhD7M6B1kVbnGQyDd0Kd23GhbhURDzS0vj9xOP4Uo', 'summonerName': 'LG Hunter 1', 'leaguePoints': 75, 'wins': 10, 'losses': 9, 'veteran': False, 'inactive': False, 'freshBlood': False, 'hotStreak': False}]\n"
          ],
          "name": "stdout"
        }
      ]
    },
    {
      "cell_type": "code",
      "metadata": {
        "id": "8JVdJa08hqMV"
      },
      "source": [
        "matches = lol_watcher.match.matchlist_by_account('na1',me['accountId'],begin_index=0, end_index=10)"
      ],
      "execution_count": 5,
      "outputs": []
    },
    {
      "cell_type": "code",
      "metadata": {
        "id": "imXZ84996HQ1"
      },
      "source": [
        "match = matches[\"matches\"][0]"
      ],
      "execution_count": 153,
      "outputs": []
    },
    {
      "cell_type": "code",
      "metadata": {
        "id": "peZLF576pUUj"
      },
      "source": [
        "match_details = lol_watcher.match_v4.by_id('na1',match['gameId'])"
      ],
      "execution_count": 155,
      "outputs": []
    },
    {
      "cell_type": "code",
      "metadata": {
        "colab": {
          "base_uri": "https://localhost:8080/"
        },
        "id": "wW1bIZvnJQ6u",
        "outputId": "6b111d71-8a4c-4173-f15e-976d9948526f"
      },
      "source": [
        "match_details['participants'][0]"
      ],
      "execution_count": 156,
      "outputs": [
        {
          "output_type": "execute_result",
          "data": {
            "text/plain": [
              "{'championId': 350,\n",
              " 'participantId': 1,\n",
              " 'spell1Id': 7,\n",
              " 'spell2Id': 3,\n",
              " 'stats': {'assists': 12,\n",
              "  'champLevel': 11,\n",
              "  'combatPlayerScore': 0,\n",
              "  'damageDealtToObjectives': 834,\n",
              "  'damageDealtToTurrets': 592,\n",
              "  'damageSelfMitigated': 2361,\n",
              "  'deaths': 4,\n",
              "  'doubleKills': 0,\n",
              "  'firstBloodAssist': False,\n",
              "  'firstBloodKill': False,\n",
              "  'firstTowerAssist': False,\n",
              "  'firstTowerKill': False,\n",
              "  'goldEarned': 6545,\n",
              "  'goldSpent': 5450,\n",
              "  'inhibitorKills': 0,\n",
              "  'item0': 3853,\n",
              "  'item1': 6617,\n",
              "  'item2': 6616,\n",
              "  'item3': 0,\n",
              "  'item4': 0,\n",
              "  'item5': 0,\n",
              "  'item6': 3364,\n",
              "  'killingSprees': 0,\n",
              "  'kills': 0,\n",
              "  'largestCriticalStrike': 0,\n",
              "  'largestKillingSpree': 0,\n",
              "  'largestMultiKill': 0,\n",
              "  'longestTimeSpentLiving': 472,\n",
              "  'magicDamageDealt': 7260,\n",
              "  'magicDamageDealtToChampions': 3537,\n",
              "  'magicalDamageTaken': 2651,\n",
              "  'neutralMinionsKilled': 0,\n",
              "  'neutralMinionsKilledEnemyJungle': 0,\n",
              "  'neutralMinionsKilledTeamJungle': 0,\n",
              "  'objectivePlayerScore': 0,\n",
              "  'participantId': 1,\n",
              "  'pentaKills': 0,\n",
              "  'perk0': 8214,\n",
              "  'perk0Var1': 593,\n",
              "  'perk0Var2': 1760,\n",
              "  'perk0Var3': 0,\n",
              "  'perk1': 8226,\n",
              "  'perk1Var1': 250,\n",
              "  'perk1Var2': 392,\n",
              "  'perk1Var3': 0,\n",
              "  'perk2': 8210,\n",
              "  'perk2Var1': 3,\n",
              "  'perk2Var2': 0,\n",
              "  'perk2Var3': 0,\n",
              "  'perk3': 8237,\n",
              "  'perk3Var1': 338,\n",
              "  'perk3Var2': 0,\n",
              "  'perk3Var3': 0,\n",
              "  'perk4': 8009,\n",
              "  'perk4Var1': 1595,\n",
              "  'perk4Var2': 0,\n",
              "  'perk4Var3': 0,\n",
              "  'perk5': 8017,\n",
              "  'perk5Var1': 180,\n",
              "  'perk5Var2': 0,\n",
              "  'perk5Var3': 0,\n",
              "  'perkPrimaryStyle': 8200,\n",
              "  'perkSubStyle': 8000,\n",
              "  'physicalDamageDealt': 1358,\n",
              "  'physicalDamageDealtToChampions': 902,\n",
              "  'physicalDamageTaken': 3526,\n",
              "  'playerScore0': 0,\n",
              "  'playerScore1': 0,\n",
              "  'playerScore2': 0,\n",
              "  'playerScore3': 0,\n",
              "  'playerScore4': 1,\n",
              "  'playerScore5': 0,\n",
              "  'playerScore6': 0,\n",
              "  'playerScore7': 0,\n",
              "  'playerScore8': 0,\n",
              "  'playerScore9': 1,\n",
              "  'quadraKills': 0,\n",
              "  'sightWardsBoughtInGame': 0,\n",
              "  'statPerk0': 5008,\n",
              "  'statPerk1': 5008,\n",
              "  'statPerk2': 5002,\n",
              "  'timeCCingOthers': 10,\n",
              "  'totalDamageDealt': 8619,\n",
              "  'totalDamageDealtToChampions': 4440,\n",
              "  'totalDamageTaken': 6380,\n",
              "  'totalHeal': 9252,\n",
              "  'totalMinionsKilled': 6,\n",
              "  'totalPlayerScore': 0,\n",
              "  'totalScoreRank': 0,\n",
              "  'totalTimeCrowdControlDealt': 29,\n",
              "  'totalUnitsHealed': 4,\n",
              "  'tripleKills': 0,\n",
              "  'trueDamageDealt': 0,\n",
              "  'trueDamageDealtToChampions': 0,\n",
              "  'trueDamageTaken': 203,\n",
              "  'turretKills': 0,\n",
              "  'unrealKills': 0,\n",
              "  'visionScore': 34,\n",
              "  'visionWardsBoughtInGame': 2,\n",
              "  'wardsKilled': 2,\n",
              "  'wardsPlaced': 18,\n",
              "  'win': True},\n",
              " 'teamId': 100,\n",
              " 'timeline': {'creepsPerMinDeltas': {'0-10': 0, '10-20': 0.4},\n",
              "  'csDiffPerMinDeltas': {'0-10': -0.1499999999999999,\n",
              "   '10-20': -0.3500000000000001},\n",
              "  'damageTakenDiffPerMinDeltas': {'0-10': 72.79999999999998,\n",
              "   '10-20': 523.1999999999999},\n",
              "  'damageTakenPerMinDeltas': {'0-10': 123.6, '10-20': 498.2},\n",
              "  'goldPerMinDeltas': {'0-10': 166.8, '10-20': 326.7},\n",
              "  'lane': 'BOTTOM',\n",
              "  'participantId': 1,\n",
              "  'role': 'DUO_SUPPORT',\n",
              "  'xpDiffPerMinDeltas': {'0-10': -2.3499999999999943,\n",
              "   '10-20': 70.50000000000003},\n",
              "  'xpPerMinDeltas': {'0-10': 274.4, '10-20': 335.4}}}"
            ]
          },
          "metadata": {
            "tags": []
          },
          "execution_count": 156
        }
      ]
    },
    {
      "cell_type": "code",
      "metadata": {
        "colab": {
          "base_uri": "https://localhost:8080/"
        },
        "id": "Pz3sVdhzcJnM",
        "outputId": "82aa02a6-dd2a-4568-b39f-082e2747b935"
      },
      "source": [
        "match"
      ],
      "execution_count": 107,
      "outputs": [
        {
          "output_type": "execute_result",
          "data": {
            "text/plain": [
              "{'champion': 163,\n",
              " 'gameId': 4005271454,\n",
              " 'lane': 'JUNGLE',\n",
              " 'platformId': 'NA1',\n",
              " 'queue': 400,\n",
              " 'role': 'NONE',\n",
              " 'season': 13,\n",
              " 'timestamp': 1628488241095}"
            ]
          },
          "metadata": {
            "tags": []
          },
          "execution_count": 107
        }
      ]
    },
    {
      "cell_type": "code",
      "metadata": {
        "id": "SkkFtm_C57Rq"
      },
      "source": [
        "game_id = [] \n",
        "game_mode = []\n",
        "game_duration = []\n",
        "participant_identities = []\n",
        "participant_details = []\n",
        "team_1_stats = []\n",
        "team_2_stats = []"
      ],
      "execution_count": 9,
      "outputs": []
    },
    {
      "cell_type": "code",
      "metadata": {
        "id": "BWPB74QAYc6m"
      },
      "source": [
        "for match in matches[\"matches\"]:\n",
        "  match_details = lol_watcher.match_v4.by_id('na1',match['gameId'])\n",
        "  game_id.append(match['gameId'])\n",
        "  game_mode.append(match_details['gameMode']) \n",
        "  game_duration.append(match_details['gameDuration']) \n",
        "  participant_identities.append(match_details['participantIdentities'])\n",
        "  participant_details.append(match_details['participants'])\n",
        "  team_1_stats.append(match_details['teams'][0])\n",
        "  team_2_stats.append(match_details['teams'][1])\n",
        "    "
      ],
      "execution_count": 11,
      "outputs": []
    },
    {
      "cell_type": "code",
      "metadata": {
        "id": "5zXrhZKCJ_OB"
      },
      "source": [
        "df = pd.DataFrame({\n",
        "  'game_id':game_id,\n",
        "  'game_mode':game_mode,\n",
        "  'game_duration':game_duration,\n",
        "  'participant_identities':participant_identities,\n",
        "  'participant_details':participant_details,\n",
        "  'team_1_stats':team_1_stats,\n",
        "  'team_2_stats':team_2_stats\n",
        "})"
      ],
      "execution_count": 20,
      "outputs": []
    },
    {
      "cell_type": "code",
      "metadata": {
        "colab": {
          "base_uri": "https://localhost:8080/"
        },
        "id": "ovhp3Yd6QpgC",
        "outputId": "f4e72a51-f73e-475a-e129-95b7001a6dda"
      },
      "source": [
        "df.iloc[0,].team_1_stats.keys()"
      ],
      "execution_count": 34,
      "outputs": [
        {
          "output_type": "execute_result",
          "data": {
            "text/plain": [
              "dict_keys(['teamId', 'win', 'firstBlood', 'firstTower', 'firstInhibitor', 'firstBaron', 'firstDragon', 'firstRiftHerald', 'towerKills', 'inhibitorKills', 'baronKills', 'dragonKills', 'vilemawKills', 'riftHeraldKills', 'dominionVictoryScore', 'bans'])"
            ]
          },
          "metadata": {
            "tags": []
          },
          "execution_count": 34
        }
      ]
    },
    {
      "cell_type": "code",
      "metadata": {
        "colab": {
          "base_uri": "https://localhost:8080/"
        },
        "id": "FayOekHcSlqt",
        "outputId": "e9edb0f6-f584-4987-d51a-f92eafec55bb"
      },
      "source": [
        "print(participant_details[0])\n"
      ],
      "execution_count": 147,
      "outputs": [
        {
          "output_type": "stream",
          "text": [
            "[{'participantId': 1, 'teamId': 100, 'championId': 350, 'spell1Id': 7, 'spell2Id': 3, 'stats': {'participantId': 1, 'win': True, 'item0': 3853, 'item1': 6617, 'item2': 6616, 'item3': 0, 'item4': 0, 'item5': 0, 'item6': 3364, 'kills': 0, 'deaths': 4, 'assists': 12, 'largestKillingSpree': 0, 'largestMultiKill': 0, 'killingSprees': 0, 'longestTimeSpentLiving': 472, 'doubleKills': 0, 'tripleKills': 0, 'quadraKills': 0, 'pentaKills': 0, 'unrealKills': 0, 'totalDamageDealt': 8619, 'magicDamageDealt': 7260, 'physicalDamageDealt': 1358, 'trueDamageDealt': 0, 'largestCriticalStrike': 0, 'totalDamageDealtToChampions': 4440, 'magicDamageDealtToChampions': 3537, 'physicalDamageDealtToChampions': 902, 'trueDamageDealtToChampions': 0, 'totalHeal': 9252, 'totalUnitsHealed': 4, 'damageSelfMitigated': 2361, 'damageDealtToObjectives': 834, 'damageDealtToTurrets': 592, 'visionScore': 34, 'timeCCingOthers': 10, 'totalDamageTaken': 6380, 'magicalDamageTaken': 2651, 'physicalDamageTaken': 3526, 'trueDamageTaken': 203, 'goldEarned': 6545, 'goldSpent': 5450, 'turretKills': 0, 'inhibitorKills': 0, 'totalMinionsKilled': 6, 'neutralMinionsKilled': 0, 'neutralMinionsKilledTeamJungle': 0, 'neutralMinionsKilledEnemyJungle': 0, 'totalTimeCrowdControlDealt': 29, 'champLevel': 11, 'visionWardsBoughtInGame': 2, 'sightWardsBoughtInGame': 0, 'wardsPlaced': 18, 'wardsKilled': 2, 'firstBloodKill': False, 'firstBloodAssist': False, 'firstTowerKill': False, 'firstTowerAssist': False, 'combatPlayerScore': 0, 'objectivePlayerScore': 0, 'totalPlayerScore': 0, 'totalScoreRank': 0, 'playerScore0': 0, 'playerScore1': 0, 'playerScore2': 0, 'playerScore3': 0, 'playerScore4': 1, 'playerScore5': 0, 'playerScore6': 0, 'playerScore7': 0, 'playerScore8': 0, 'playerScore9': 1, 'perk0': 8214, 'perk0Var1': 593, 'perk0Var2': 1760, 'perk0Var3': 0, 'perk1': 8226, 'perk1Var1': 250, 'perk1Var2': 392, 'perk1Var3': 0, 'perk2': 8210, 'perk2Var1': 3, 'perk2Var2': 0, 'perk2Var3': 0, 'perk3': 8237, 'perk3Var1': 338, 'perk3Var2': 0, 'perk3Var3': 0, 'perk4': 8009, 'perk4Var1': 1595, 'perk4Var2': 0, 'perk4Var3': 0, 'perk5': 8017, 'perk5Var1': 180, 'perk5Var2': 0, 'perk5Var3': 0, 'perkPrimaryStyle': 8200, 'perkSubStyle': 8000, 'statPerk0': 5008, 'statPerk1': 5008, 'statPerk2': 5002}, 'timeline': {'participantId': 1, 'creepsPerMinDeltas': {'10-20': 0.4, '0-10': 0}, 'xpPerMinDeltas': {'10-20': 335.4, '0-10': 274.4}, 'goldPerMinDeltas': {'10-20': 326.7, '0-10': 166.8}, 'csDiffPerMinDeltas': {'10-20': -0.3500000000000001, '0-10': -0.1499999999999999}, 'xpDiffPerMinDeltas': {'10-20': 70.50000000000003, '0-10': -2.3499999999999943}, 'damageTakenPerMinDeltas': {'10-20': 498.2, '0-10': 123.6}, 'damageTakenDiffPerMinDeltas': {'10-20': 523.1999999999999, '0-10': 72.79999999999998}, 'role': 'DUO_SUPPORT', 'lane': 'BOTTOM'}}, {'participantId': 2, 'teamId': 100, 'championId': 360, 'spell1Id': 1, 'spell2Id': 4, 'stats': {'participantId': 2, 'win': True, 'item0': 1055, 'item1': 6673, 'item2': 6676, 'item3': 3006, 'item4': 1037, 'item5': 0, 'item6': 3340, 'kills': 10, 'deaths': 4, 'assists': 1, 'largestKillingSpree': 6, 'largestMultiKill': 3, 'killingSprees': 2, 'longestTimeSpentLiving': 468, 'doubleKills': 2, 'tripleKills': 1, 'quadraKills': 0, 'pentaKills': 0, 'unrealKills': 0, 'totalDamageDealt': 133730, 'magicDamageDealt': 11681, 'physicalDamageDealt': 118004, 'trueDamageDealt': 4044, 'largestCriticalStrike': 549, 'totalDamageDealtToChampions': 19430, 'magicDamageDealtToChampions': 2022, 'physicalDamageDealtToChampions': 16714, 'trueDamageDealtToChampions': 692, 'totalHeal': 3080, 'totalUnitsHealed': 1, 'damageSelfMitigated': 9338, 'damageDealtToObjectives': 12177, 'damageDealtToTurrets': 3972, 'visionScore': 19, 'timeCCingOthers': 4, 'totalDamageTaken': 20966, 'magicalDamageTaken': 7210, 'physicalDamageTaken': 12991, 'trueDamageTaken': 764, 'goldEarned': 11730, 'goldSpent': 9050, 'turretKills': 1, 'inhibitorKills': 0, 'totalMinionsKilled': 176, 'neutralMinionsKilled': 20, 'neutralMinionsKilledTeamJungle': 8, 'neutralMinionsKilledEnemyJungle': 9, 'totalTimeCrowdControlDealt': 67, 'champLevel': 12, 'visionWardsBoughtInGame': 1, 'sightWardsBoughtInGame': 0, 'wardsPlaced': 9, 'wardsKilled': 5, 'firstBloodKill': False, 'firstBloodAssist': False, 'firstTowerKill': False, 'firstTowerAssist': False, 'combatPlayerScore': 0, 'objectivePlayerScore': 0, 'totalPlayerScore': 0, 'totalScoreRank': 0, 'playerScore0': 0, 'playerScore1': 0, 'playerScore2': 0, 'playerScore3': 1, 'playerScore4': 0, 'playerScore5': 0, 'playerScore6': 0, 'playerScore7': 0, 'playerScore8': 0, 'playerScore9': 1, 'perk0': 8010, 'perk0Var1': 106, 'perk0Var2': 0, 'perk0Var3': 0, 'perk1': 8009, 'perk1Var1': 1267, 'perk1Var2': 0, 'perk1Var3': 0, 'perk2': 9103, 'perk2Var1': 22, 'perk2Var2': 0, 'perk2Var3': 0, 'perk3': 8299, 'perk3Var1': 503, 'perk3Var2': 0, 'perk3Var3': 0, 'perk4': 8139, 'perk4Var1': 685, 'perk4Var2': 0, 'perk4Var3': 0, 'perk5': 8135, 'perk5Var1': 1509, 'perk5Var2': 5, 'perk5Var3': 0, 'perkPrimaryStyle': 8000, 'perkSubStyle': 8100, 'statPerk0': 5005, 'statPerk1': 5008, 'statPerk2': 5002}, 'timeline': {'participantId': 2, 'creepsPerMinDeltas': {'10-20': 7.1, '0-10': 7.9}, 'xpPerMinDeltas': {'10-20': 451, '0-10': 301.4}, 'goldPerMinDeltas': {'10-20': 580.9000000000001, '0-10': 294.6}, 'csDiffPerMinDeltas': {'10-20': -0.3500000000000001, '0-10': -0.1499999999999999}, 'xpDiffPerMinDeltas': {'10-20': 70.50000000000003, '0-10': -2.3499999999999943}, 'damageTakenPerMinDeltas': {'10-20': 1428.7, '0-10': 433.7}, 'damageTakenDiffPerMinDeltas': {'10-20': 523.1999999999999, '0-10': 72.79999999999998}, 'role': 'DUO_CARRY', 'lane': 'BOTTOM'}}, {'participantId': 3, 'teamId': 100, 'championId': 104, 'spell1Id': 11, 'spell2Id': 4, 'stats': {'participantId': 3, 'win': True, 'item0': 2031, 'item1': 6671, 'item2': 3006, 'item3': 3134, 'item4': 0, 'item5': 1018, 'item6': 3364, 'kills': 1, 'deaths': 5, 'assists': 1, 'largestKillingSpree': 0, 'largestMultiKill': 1, 'killingSprees': 0, 'longestTimeSpentLiving': 368, 'doubleKills': 0, 'tripleKills': 0, 'quadraKills': 0, 'pentaKills': 0, 'unrealKills': 0, 'totalDamageDealt': 136428, 'magicDamageDealt': 8875, 'physicalDamageDealt': 115771, 'trueDamageDealt': 11780, 'largestCriticalStrike': 245, 'totalDamageDealtToChampions': 3983, 'magicDamageDealtToChampions': 362, 'physicalDamageDealtToChampions': 3399, 'trueDamageDealtToChampions': 222, 'totalHeal': 3833, 'totalUnitsHealed': 1, 'damageSelfMitigated': 6906, 'damageDealtToObjectives': 21354, 'damageDealtToTurrets': 1324, 'visionScore': 21, 'timeCCingOthers': 8, 'totalDamageTaken': 13528, 'magicalDamageTaken': 2814, 'physicalDamageTaken': 10557, 'trueDamageTaken': 155, 'goldEarned': 7911, 'goldSpent': 6850, 'turretKills': 1, 'inhibitorKills': 0, 'totalMinionsKilled': 27, 'neutralMinionsKilled': 138, 'neutralMinionsKilledTeamJungle': 93, 'neutralMinionsKilledEnemyJungle': 9, 'totalTimeCrowdControlDealt': 472, 'champLevel': 13, 'visionWardsBoughtInGame': 2, 'sightWardsBoughtInGame': 0, 'wardsPlaced': 3, 'wardsKilled': 5, 'firstBloodKill': False, 'firstBloodAssist': False, 'firstTowerKill': False, 'firstTowerAssist': True, 'combatPlayerScore': 0, 'objectivePlayerScore': 0, 'totalPlayerScore': 0, 'totalScoreRank': 0, 'playerScore0': 0, 'playerScore1': 0, 'playerScore2': 0, 'playerScore3': 0, 'playerScore4': 0, 'playerScore5': 0, 'playerScore6': 0, 'playerScore7': 0, 'playerScore8': 0, 'playerScore9': 0, 'perk0': 8128, 'perk0Var1': 130, 'perk0Var2': 4, 'perk0Var3': 0, 'perk1': 8143, 'perk1Var1': 73, 'perk1Var2': 0, 'perk1Var3': 0, 'perk2': 8138, 'perk2Var1': 2, 'perk2Var2': 0, 'perk2Var3': 0, 'perk3': 8135, 'perk3Var1': 657, 'perk3Var2': 1, 'perk3Var3': 0, 'perk4': 8233, 'perk4Var1': 14, 'perk4Var2': 30, 'perk4Var3': 0, 'perk5': 8232, 'perk5Var1': 4, 'perk5Var2': 40, 'perk5Var3': 0, 'perkPrimaryStyle': 8100, 'perkSubStyle': 8200, 'statPerk0': 5005, 'statPerk1': 5008, 'statPerk2': 5002}, 'timeline': {'participantId': 3, 'creepsPerMinDeltas': {'10-20': 1.3, '0-10': 0.4}, 'xpPerMinDeltas': {'10-20': 397.1, '0-10': 364.2}, 'goldPerMinDeltas': {'10-20': 305.9, '0-10': 280.6}, 'damageTakenPerMinDeltas': {'10-20': 710.0999999999999, '0-10': 558.1}, 'role': 'NONE', 'lane': 'JUNGLE'}}, {'participantId': 4, 'teamId': 100, 'championId': 157, 'spell1Id': 4, 'spell2Id': 14, 'stats': {'participantId': 4, 'win': True, 'item0': 1055, 'item1': 1018, 'item2': 1055, 'item3': 6673, 'item4': 3006, 'item5': 3033, 'item6': 3363, 'kills': 2, 'deaths': 3, 'assists': 5, 'largestKillingSpree': 0, 'largestMultiKill': 1, 'killingSprees': 0, 'longestTimeSpentLiving': 699, 'doubleKills': 0, 'tripleKills': 0, 'quadraKills': 0, 'pentaKills': 0, 'unrealKills': 0, 'totalDamageDealt': 132780, 'magicDamageDealt': 11402, 'physicalDamageDealt': 120589, 'trueDamageDealt': 788, 'largestCriticalStrike': 424, 'totalDamageDealtToChampions': 10809, 'magicDamageDealtToChampions': 1194, 'physicalDamageDealtToChampions': 9127, 'trueDamageDealtToChampions': 488, 'totalHeal': 5590, 'totalUnitsHealed': 1, 'damageSelfMitigated': 14976, 'damageDealtToObjectives': 2705, 'damageDealtToTurrets': 2705, 'visionScore': 12, 'timeCCingOthers': 12, 'totalDamageTaken': 16550, 'magicalDamageTaken': 3301, 'physicalDamageTaken': 12402, 'trueDamageTaken': 845, 'goldEarned': 10089, 'goldSpent': 8700, 'turretKills': 2, 'inhibitorKills': 0, 'totalMinionsKilled': 204, 'neutralMinionsKilled': 16, 'neutralMinionsKilledTeamJungle': 8, 'neutralMinionsKilledEnemyJungle': 8, 'totalTimeCrowdControlDealt': 114, 'champLevel': 15, 'visionWardsBoughtInGame': 0, 'sightWardsBoughtInGame': 0, 'wardsPlaced': 8, 'wardsKilled': 0, 'firstBloodKill': False, 'firstBloodAssist': False, 'firstTowerKill': False, 'firstTowerAssist': False, 'combatPlayerScore': 0, 'objectivePlayerScore': 0, 'totalPlayerScore': 0, 'totalScoreRank': 0, 'playerScore0': 0, 'playerScore1': 0, 'playerScore2': 0, 'playerScore3': 0, 'playerScore4': 0, 'playerScore5': 0, 'playerScore6': 1, 'playerScore7': 0, 'playerScore8': 0, 'playerScore9': 0, 'perk0': 8021, 'perk0Var1': 2559, 'perk0Var2': 0, 'perk0Var3': 0, 'perk1': 9111, 'perk1Var1': 442, 'perk1Var2': 140, 'perk1Var3': 0, 'perk2': 9104, 'perk2Var1': 20, 'perk2Var2': 0, 'perk2Var3': 0, 'perk3': 8014, 'perk3Var1': 161, 'perk3Var2': 0, 'perk3Var3': 0, 'perk4': 8139, 'perk4Var1': 607, 'perk4Var2': 0, 'perk4Var3': 0, 'perk5': 8135, 'perk5Var1': 755, 'perk5Var2': 4, 'perk5Var3': 0, 'perkPrimaryStyle': 8000, 'perkSubStyle': 8100, 'statPerk0': 5005, 'statPerk1': 5008, 'statPerk2': 5002}, 'timeline': {'participantId': 4, 'creepsPerMinDeltas': {'10-20': 9.7, '0-10': 9.1}, 'xpPerMinDeltas': {'10-20': 620.5999999999999, '0-10': 489.9}, 'goldPerMinDeltas': {'10-20': 441, '0-10': 303.9}, 'csDiffPerMinDeltas': {'10-20': 1.8999999999999995, '0-10': 2.7999999999999994}, 'xpDiffPerMinDeltas': {'10-20': -8.800000000000011, '0-10': 36.89999999999998}, 'damageTakenPerMinDeltas': {'10-20': 700.6, '0-10': 305.79999999999995}, 'damageTakenDiffPerMinDeltas': {'10-20': -36.20000000000002, '0-10': 29.099999999999994}, 'role': 'SOLO', 'lane': 'MIDDLE'}}, {'participantId': 5, 'teamId': 100, 'championId': 164, 'spell1Id': 12, 'spell2Id': 14, 'stats': {'participantId': 5, 'win': True, 'item0': 1055, 'item1': 6632, 'item2': 2031, 'item3': 3748, 'item4': 1011, 'item5': 3076, 'item6': 3364, 'kills': 8, 'deaths': 3, 'assists': 6, 'largestKillingSpree': 3, 'largestMultiKill': 1, 'killingSprees': 3, 'longestTimeSpentLiving': 742, 'doubleKills': 0, 'tripleKills': 0, 'quadraKills': 0, 'pentaKills': 0, 'unrealKills': 0, 'totalDamageDealt': 92704, 'magicDamageDealt': 1166, 'physicalDamageDealt': 78599, 'trueDamageDealt': 12939, 'largestCriticalStrike': 0, 'totalDamageDealtToChampions': 17939, 'magicDamageDealtToChampions': 1064, 'physicalDamageDealtToChampions': 12409, 'trueDamageDealtToChampions': 4465, 'totalHeal': 6694, 'totalUnitsHealed': 1, 'damageSelfMitigated': 16314, 'damageDealtToObjectives': 8778, 'damageDealtToTurrets': 7778, 'visionScore': 11, 'timeCCingOthers': 19, 'totalDamageTaken': 21709, 'magicalDamageTaken': 7078, 'physicalDamageTaken': 14114, 'trueDamageTaken': 516, 'goldEarned': 12079, 'goldSpent': 8950, 'turretKills': 2, 'inhibitorKills': 0, 'totalMinionsKilled': 154, 'neutralMinionsKilled': 8, 'neutralMinionsKilledTeamJungle': 4, 'neutralMinionsKilledEnemyJungle': 1, 'totalTimeCrowdControlDealt': 140, 'champLevel': 15, 'visionWardsBoughtInGame': 0, 'sightWardsBoughtInGame': 0, 'wardsPlaced': 6, 'wardsKilled': 1, 'firstBloodKill': True, 'firstBloodAssist': False, 'firstTowerKill': True, 'firstTowerAssist': False, 'combatPlayerScore': 0, 'objectivePlayerScore': 0, 'totalPlayerScore': 0, 'totalScoreRank': 0, 'playerScore0': 0, 'playerScore1': 0, 'playerScore2': 0, 'playerScore3': 0, 'playerScore4': 0, 'playerScore5': 1, 'playerScore6': 0, 'playerScore7': 4, 'playerScore8': 0, 'playerScore9': 0, 'perk0': 8437, 'perk0Var1': 820, 'perk0Var2': 601, 'perk0Var3': 0, 'perk1': 8401, 'perk1Var1': 725, 'perk1Var2': 0, 'perk1Var3': 0, 'perk2': 8473, 'perk2Var1': 561, 'perk2Var2': 0, 'perk2Var3': 0, 'perk3': 8453, 'perk3Var1': 589, 'perk3Var2': 535, 'perk3Var3': 0, 'perk4': 9111, 'perk4Var1': 1119, 'perk4Var2': 280, 'perk4Var3': 0, 'perk5': 8014, 'perk5Var1': 347, 'perk5Var2': 0, 'perk5Var3': 0, 'perkPrimaryStyle': 8400, 'perkSubStyle': 8000, 'statPerk0': 5008, 'statPerk1': 5008, 'statPerk2': 5002}, 'timeline': {'participantId': 5, 'creepsPerMinDeltas': {'10-20': 5.6, '0-10': 7.7}, 'xpPerMinDeltas': {'10-20': 529.8, '0-10': 454.7}, 'goldPerMinDeltas': {'10-20': 496.7, '0-10': 355.20000000000005}, 'damageTakenPerMinDeltas': {'10-20': 706.0999999999999, '0-10': 342.9}, 'role': 'NONE', 'lane': 'JUNGLE'}}, {'participantId': 6, 'teamId': 200, 'championId': 246, 'spell1Id': 4, 'spell2Id': 14, 'stats': {'participantId': 6, 'win': False, 'item0': 3158, 'item1': 3814, 'item2': 6693, 'item3': 6695, 'item4': 1036, 'item5': 0, 'item6': 3340, 'kills': 11, 'deaths': 5, 'assists': 1, 'largestKillingSpree': 7, 'largestMultiKill': 2, 'killingSprees': 2, 'longestTimeSpentLiving': 946, 'doubleKills': 2, 'tripleKills': 0, 'quadraKills': 0, 'pentaKills': 0, 'unrealKills': 0, 'totalDamageDealt': 102272, 'magicDamageDealt': 3611, 'physicalDamageDealt': 92293, 'trueDamageDealt': 6367, 'largestCriticalStrike': 0, 'totalDamageDealtToChampions': 21485, 'magicDamageDealtToChampions': 782, 'physicalDamageDealtToChampions': 19699, 'trueDamageDealtToChampions': 1003, 'totalHeal': 1315, 'totalUnitsHealed': 1, 'damageSelfMitigated': 9435, 'damageDealtToObjectives': 0, 'damageDealtToTurrets': 0, 'visionScore': 10, 'timeCCingOthers': 13, 'totalDamageTaken': 16662, 'magicalDamageTaken': 2196, 'physicalDamageTaken': 13542, 'trueDamageTaken': 923, 'goldEarned': 10401, 'goldSpent': 10150, 'turretKills': 0, 'inhibitorKills': 0, 'totalMinionsKilled': 164, 'neutralMinionsKilled': 0, 'neutralMinionsKilledTeamJungle': 0, 'neutralMinionsKilledEnemyJungle': 0, 'totalTimeCrowdControlDealt': 77, 'champLevel': 14, 'visionWardsBoughtInGame': 0, 'sightWardsBoughtInGame': 0, 'wardsPlaced': 7, 'wardsKilled': 1, 'firstBloodKill': False, 'firstBloodAssist': False, 'firstTowerKill': False, 'firstTowerAssist': False, 'combatPlayerScore': 0, 'objectivePlayerScore': 0, 'totalPlayerScore': 0, 'totalScoreRank': 0, 'playerScore0': 0, 'playerScore1': 0, 'playerScore2': 0, 'playerScore3': 1, 'playerScore4': 0, 'playerScore5': 1, 'playerScore6': 0, 'playerScore7': 4, 'playerScore8': 0, 'playerScore9': 1, 'perk0': 8112, 'perk0Var1': 1351, 'perk0Var2': 0, 'perk0Var3': 0, 'perk1': 8143, 'perk1Var1': 787, 'perk1Var2': 0, 'perk1Var3': 0, 'perk2': 8138, 'perk2Var1': 18, 'perk2Var2': 0, 'perk2Var3': 0, 'perk3': 8135, 'perk3Var1': 1541, 'perk3Var2': 5, 'perk3Var3': 0, 'perk4': 8009, 'perk4Var1': 1789, 'perk4Var2': 0, 'perk4Var3': 0, 'perk5': 8014, 'perk5Var1': 438, 'perk5Var2': 0, 'perk5Var3': 0, 'perkPrimaryStyle': 8100, 'perkSubStyle': 8000, 'statPerk0': 5008, 'statPerk1': 5008, 'statPerk2': 5002}, 'timeline': {'participantId': 6, 'creepsPerMinDeltas': {'10-20': 7.8, '0-10': 6.300000000000001}, 'xpPerMinDeltas': {'10-20': 629.4, '0-10': 453}, 'goldPerMinDeltas': {'10-20': 584.6, '0-10': 264.5}, 'csDiffPerMinDeltas': {'10-20': -1.8999999999999995, '0-10': -2.7999999999999994}, 'xpDiffPerMinDeltas': {'10-20': 8.800000000000011, '0-10': -36.89999999999998}, 'damageTakenPerMinDeltas': {'10-20': 736.8000000000001, '0-10': 276.7}, 'damageTakenDiffPerMinDeltas': {'10-20': 36.20000000000002, '0-10': -29.099999999999994}, 'role': 'SOLO', 'lane': 'MIDDLE'}}, {'participantId': 7, 'teamId': 200, 'championId': 99, 'spell1Id': 3, 'spell2Id': 4, 'stats': {'participantId': 7, 'win': False, 'item0': 3853, 'item1': 6655, 'item2': 3020, 'item3': 2003, 'item4': 0, 'item5': 0, 'item6': 3364, 'kills': 1, 'deaths': 3, 'assists': 8, 'largestKillingSpree': 0, 'largestMultiKill': 1, 'killingSprees': 0, 'longestTimeSpentLiving': 867, 'doubleKills': 0, 'tripleKills': 0, 'quadraKills': 0, 'pentaKills': 0, 'unrealKills': 0, 'totalDamageDealt': 19918, 'magicDamageDealt': 18653, 'physicalDamageDealt': 983, 'trueDamageDealt': 281, 'largestCriticalStrike': 0, 'totalDamageDealtToChampions': 6191, 'magicDamageDealtToChampions': 5601, 'physicalDamageDealtToChampions': 308, 'trueDamageDealtToChampions': 281, 'totalHeal': 0, 'totalUnitsHealed': 0, 'damageSelfMitigated': 3622, 'damageDealtToObjectives': 1497, 'damageDealtToTurrets': 848, 'visionScore': 34, 'timeCCingOthers': 22, 'totalDamageTaken': 6829, 'magicalDamageTaken': 1688, 'physicalDamageTaken': 4968, 'trueDamageTaken': 172, 'goldEarned': 5789, 'goldSpent': 5275, 'turretKills': 0, 'inhibitorKills': 0, 'totalMinionsKilled': 23, 'neutralMinionsKilled': 0, 'neutralMinionsKilledTeamJungle': 0, 'neutralMinionsKilledEnemyJungle': 0, 'totalTimeCrowdControlDealt': 124, 'champLevel': 10, 'visionWardsBoughtInGame': 3, 'sightWardsBoughtInGame': 0, 'wardsPlaced': 13, 'wardsKilled': 7, 'firstBloodKill': False, 'firstBloodAssist': False, 'firstTowerKill': False, 'firstTowerAssist': False, 'combatPlayerScore': 0, 'objectivePlayerScore': 0, 'totalPlayerScore': 0, 'totalScoreRank': 0, 'playerScore0': 0, 'playerScore1': 0, 'playerScore2': 0, 'playerScore3': 0, 'playerScore4': 0, 'playerScore5': 0, 'playerScore6': 0, 'playerScore7': 0, 'playerScore8': 0, 'playerScore9': 1, 'perk0': 8229, 'perk0Var1': 742, 'perk0Var2': 0, 'perk0Var3': 0, 'perk1': 8226, 'perk1Var1': 250, 'perk1Var2': 268, 'perk1Var3': 0, 'perk2': 8210, 'perk2Var1': 0, 'perk2Var2': 0, 'perk2Var3': 0, 'perk3': 8236, 'perk3Var1': 24, 'perk3Var2': 0, 'perk3Var3': 0, 'perk4': 8126, 'perk4Var1': 348, 'perk4Var2': 0, 'perk4Var3': 0, 'perk5': 8106, 'perk5Var1': 5, 'perk5Var2': 0, 'perk5Var3': 0, 'perkPrimaryStyle': 8200, 'perkSubStyle': 8100, 'statPerk0': 5008, 'statPerk1': 5008, 'statPerk2': 5002}, 'timeline': {'participantId': 7, 'creepsPerMinDeltas': {'10-20': 1.6, '0-10': 0.6}, 'xpPerMinDeltas': {'10-20': 208.9, '0-10': 285.4}, 'goldPerMinDeltas': {'10-20': 244.39999999999998, '0-10': 199.2}, 'csDiffPerMinDeltas': {'10-20': 0.3500000000000001, '0-10': 0.1499999999999999}, 'xpDiffPerMinDeltas': {'10-20': -70.50000000000003, '0-10': 2.3499999999999943}, 'damageTakenPerMinDeltas': {'10-20': 428.5, '0-10': 131.8}, 'damageTakenDiffPerMinDeltas': {'10-20': -523.1999999999999, '0-10': -72.79999999999998}, 'role': 'DUO_SUPPORT', 'lane': 'BOTTOM'}}, {'participantId': 8, 'teamId': 200, 'championId': 75, 'spell1Id': 12, 'spell2Id': 4, 'stats': {'participantId': 8, 'win': False, 'item0': 1056, 'item1': 2031, 'item2': 6632, 'item3': 3047, 'item4': 3110, 'item5': 1028, 'item6': 3340, 'kills': 3, 'deaths': 5, 'assists': 2, 'largestKillingSpree': 0, 'largestMultiKill': 1, 'killingSprees': 0, 'longestTimeSpentLiving': 436, 'doubleKills': 0, 'tripleKills': 0, 'quadraKills': 0, 'pentaKills': 0, 'unrealKills': 0, 'totalDamageDealt': 76847, 'magicDamageDealt': 14961, 'physicalDamageDealt': 59709, 'trueDamageDealt': 2176, 'largestCriticalStrike': 0, 'totalDamageDealtToChampions': 7892, 'magicDamageDealtToChampions': 2790, 'physicalDamageDealtToChampions': 4796, 'trueDamageDealtToChampions': 306, 'totalHeal': 1527, 'totalUnitsHealed': 1, 'damageSelfMitigated': 15120, 'damageDealtToObjectives': 4630, 'damageDealtToTurrets': 2693, 'visionScore': 5, 'timeCCingOthers': 10, 'totalDamageTaken': 20432, 'magicalDamageTaken': 1203, 'physicalDamageTaken': 15266, 'trueDamageTaken': 3961, 'goldEarned': 8218, 'goldSpent': 7950, 'turretKills': 1, 'inhibitorKills': 0, 'totalMinionsKilled': 125, 'neutralMinionsKilled': 4, 'neutralMinionsKilledTeamJungle': 1, 'neutralMinionsKilledEnemyJungle': 0, 'totalTimeCrowdControlDealt': 225, 'champLevel': 13, 'visionWardsBoughtInGame': 0, 'sightWardsBoughtInGame': 0, 'wardsPlaced': 4, 'wardsKilled': 0, 'firstBloodKill': False, 'firstBloodAssist': False, 'firstTowerKill': False, 'firstTowerAssist': False, 'combatPlayerScore': 0, 'objectivePlayerScore': 0, 'totalPlayerScore': 0, 'totalScoreRank': 0, 'playerScore0': 0, 'playerScore1': 0, 'playerScore2': 0, 'playerScore3': 0, 'playerScore4': 0, 'playerScore5': 0, 'playerScore6': 0, 'playerScore7': 0, 'playerScore8': 0, 'playerScore9': 0, 'perk0': 8010, 'perk0Var1': 15, 'perk0Var2': 0, 'perk0Var3': 0, 'perk1': 9111, 'perk1Var1': 235, 'perk1Var2': 100, 'perk1Var3': 0, 'perk2': 9105, 'perk2Var1': 20, 'perk2Var2': 40, 'perk2Var3': 0, 'perk3': 8299, 'perk3Var1': 295, 'perk3Var2': 0, 'perk3Var3': 0, 'perk4': 8446, 'perk4Var1': 862, 'perk4Var2': 0, 'perk4Var3': 0, 'perk5': 8429, 'perk5Var1': 50, 'perk5Var2': 19, 'perk5Var3': 11, 'perkPrimaryStyle': 8000, 'perkSubStyle': 8400, 'statPerk0': 5008, 'statPerk1': 5002, 'statPerk2': 5002}, 'timeline': {'participantId': 8, 'creepsPerMinDeltas': {'10-20': 5.800000000000001, '0-10': 3.4000000000000004}, 'xpPerMinDeltas': {'10-20': 441.70000000000005, '0-10': 337.6}, 'goldPerMinDeltas': {'10-20': 357.79999999999995, '0-10': 184}, 'damageTakenPerMinDeltas': {'10-20': 1037, '0-10': 625.1}, 'role': 'SOLO', 'lane': 'TOP'}}, {'participantId': 9, 'teamId': 200, 'championId': 163, 'spell1Id': 4, 'spell2Id': 11, 'stats': {'participantId': 9, 'win': False, 'item0': 6655, 'item1': 3157, 'item2': 3020, 'item3': 2031, 'item4': 3916, 'item5': 1028, 'item6': 3364, 'kills': 4, 'deaths': 5, 'assists': 10, 'largestKillingSpree': 3, 'largestMultiKill': 2, 'killingSprees': 1, 'longestTimeSpentLiving': 736, 'doubleKills': 1, 'tripleKills': 0, 'quadraKills': 0, 'pentaKills': 0, 'unrealKills': 0, 'totalDamageDealt': 114723, 'magicDamageDealt': 95817, 'physicalDamageDealt': 10706, 'trueDamageDealt': 8200, 'largestCriticalStrike': 0, 'totalDamageDealtToChampions': 11920, 'magicDamageDealtToChampions': 10263, 'physicalDamageDealtToChampions': 762, 'trueDamageDealtToChampions': 894, 'totalHeal': 6715, 'totalUnitsHealed': 1, 'damageSelfMitigated': 9761, 'damageDealtToObjectives': 5260, 'damageDealtToTurrets': 1816, 'visionScore': 22, 'timeCCingOthers': 10, 'totalDamageTaken': 18292, 'magicalDamageTaken': 2028, 'physicalDamageTaken': 15625, 'trueDamageTaken': 638, 'goldEarned': 9087, 'goldSpent': 8600, 'turretKills': 1, 'inhibitorKills': 0, 'totalMinionsKilled': 20, 'neutralMinionsKilled': 119, 'neutralMinionsKilledTeamJungle': 96, 'neutralMinionsKilledEnemyJungle': 2, 'totalTimeCrowdControlDealt': 384, 'champLevel': 13, 'visionWardsBoughtInGame': 4, 'sightWardsBoughtInGame': 0, 'wardsPlaced': 9, 'wardsKilled': 1, 'firstBloodKill': False, 'firstBloodAssist': False, 'firstTowerKill': False, 'firstTowerAssist': False, 'combatPlayerScore': 0, 'objectivePlayerScore': 0, 'totalPlayerScore': 0, 'totalScoreRank': 0, 'playerScore0': 0, 'playerScore1': 0, 'playerScore2': 0, 'playerScore3': 0, 'playerScore4': 1, 'playerScore5': 0, 'playerScore6': 0, 'playerScore7': 0, 'playerScore8': 0, 'playerScore9': 1, 'perk0': 8112, 'perk0Var1': 607, 'perk0Var2': 0, 'perk0Var3': 0, 'perk1': 8126, 'perk1Var1': 466, 'perk1Var2': 0, 'perk1Var3': 0, 'perk2': 8136, 'perk2Var1': 1, 'perk2Var2': 2, 'perk2Var3': 0, 'perk3': 8135, 'perk3Var1': 2063, 'perk3Var2': 5, 'perk3Var3': 0, 'perk4': 8304, 'perk4Var1': 9, 'perk4Var2': 4, 'perk4Var3': 5, 'perk5': 8347, 'perk5Var1': 0, 'perk5Var2': 0, 'perk5Var3': 0, 'perkPrimaryStyle': 8100, 'perkSubStyle': 8300, 'statPerk0': 5005, 'statPerk1': 5008, 'statPerk2': 5002}, 'timeline': {'participantId': 9, 'creepsPerMinDeltas': {'10-20': 0.6, '0-10': 0.3}, 'xpPerMinDeltas': {'10-20': 563.9, '0-10': 306.5}, 'goldPerMinDeltas': {'10-20': 431.79999999999995, '0-10': 274.4}, 'damageTakenPerMinDeltas': {'10-20': 832.3, '0-10': 584.3}, 'role': 'NONE', 'lane': 'JUNGLE'}}, {'participantId': 10, 'teamId': 200, 'championId': 81, 'spell1Id': 4, 'spell2Id': 7, 'stats': {'participantId': 10, 'win': False, 'item0': 1055, 'item1': 6632, 'item2': 3070, 'item3': 3158, 'item4': 3123, 'item5': 1036, 'item6': 3340, 'kills': 0, 'deaths': 3, 'assists': 5, 'largestKillingSpree': 0, 'largestMultiKill': 0, 'killingSprees': 0, 'longestTimeSpentLiving': 639, 'doubleKills': 0, 'tripleKills': 0, 'quadraKills': 0, 'pentaKills': 0, 'unrealKills': 0, 'totalDamageDealt': 74252, 'magicDamageDealt': 10657, 'physicalDamageDealt': 63594, 'trueDamageDealt': 0, 'largestCriticalStrike': 0, 'totalDamageDealtToChampions': 8314, 'magicDamageDealtToChampions': 1670, 'physicalDamageDealtToChampions': 6643, 'trueDamageDealtToChampions': 0, 'totalHeal': 1992, 'totalUnitsHealed': 3, 'damageSelfMitigated': 4574, 'damageDealtToObjectives': 3058, 'damageDealtToTurrets': 1320, 'visionScore': 11, 'timeCCingOthers': 0, 'totalDamageTaken': 9985, 'magicalDamageTaken': 2109, 'physicalDamageTaken': 7703, 'trueDamageTaken': 171, 'goldEarned': 7564, 'goldSpent': 6350, 'turretKills': 0, 'inhibitorKills': 0, 'totalMinionsKilled': 170, 'neutralMinionsKilled': 0, 'neutralMinionsKilledTeamJungle': 0, 'neutralMinionsKilledEnemyJungle': 0, 'totalTimeCrowdControlDealt': 0, 'champLevel': 12, 'visionWardsBoughtInGame': 0, 'sightWardsBoughtInGame': 0, 'wardsPlaced': 7, 'wardsKilled': 1, 'firstBloodKill': False, 'firstBloodAssist': False, 'firstTowerKill': False, 'firstTowerAssist': False, 'combatPlayerScore': 0, 'objectivePlayerScore': 0, 'totalPlayerScore': 0, 'totalScoreRank': 0, 'playerScore0': 0, 'playerScore1': 0, 'playerScore2': 0, 'playerScore3': 0, 'playerScore4': 0, 'playerScore5': 0, 'playerScore6': 1, 'playerScore7': 0, 'playerScore8': 0, 'playerScore9': 0, 'perk0': 8010, 'perk0Var1': 13, 'perk0Var2': 0, 'perk0Var3': 0, 'perk1': 8009, 'perk1Var1': 1247, 'perk1Var2': 0, 'perk1Var3': 0, 'perk2': 9103, 'perk2Var1': 0, 'perk2Var2': 0, 'perk2Var3': 0, 'perk3': 8014, 'perk3Var1': 33, 'perk3Var2': 0, 'perk3Var3': 0, 'perk4': 8226, 'perk4Var1': 250, 'perk4Var2': 526, 'perk4Var3': 0, 'perk5': 8210, 'perk5Var1': 0, 'perk5Var2': 0, 'perk5Var3': 0, 'perkPrimaryStyle': 8000, 'perkSubStyle': 8200, 'statPerk0': 5005, 'statPerk1': 5008, 'statPerk2': 5002}, 'timeline': {'participantId': 10, 'creepsPerMinDeltas': {'10-20': 6.6, '0-10': 7.6}, 'xpPerMinDeltas': {'10-20': 436.5, '0-10': 295.1}, 'goldPerMinDeltas': {'10-20': 324.6, '0-10': 262.4}, 'csDiffPerMinDeltas': {'10-20': 0.3500000000000001, '0-10': 0.1499999999999999}, 'xpDiffPerMinDeltas': {'10-20': -70.50000000000003, '0-10': 2.3499999999999943}, 'damageTakenPerMinDeltas': {'10-20': 452, '0-10': 279.90000000000003}, 'damageTakenDiffPerMinDeltas': {'10-20': -523.1999999999999, '0-10': -72.79999999999998}, 'role': 'DUO_CARRY', 'lane': 'BOTTOM'}}]\n"
          ],
          "name": "stdout"
        }
      ]
    },
    {
      "cell_type": "code",
      "metadata": {
        "id": "htmLMwxUXGe-"
      },
      "source": [
        "team_stats_all = []\n",
        "player_ids_all = []\n",
        "my_details_all = []"
      ],
      "execution_count": 135,
      "outputs": []
    },
    {
      "cell_type": "code",
      "metadata": {
        "id": "Vrohx2piNMPG"
      },
      "source": [
        "for k,row in df.iterrows():\n",
        "\n",
        "  #Player identity dictionaries\n",
        "  player_ids = {}\n",
        "  for i,player in enumerate(row.participant_identities):\n",
        "    key = 'participantName_'+ (str)(i)\n",
        "    player_summoner = player['player']['summonerName']\n",
        "    player_ids[key] = player_summoner\n",
        "    player_ids_all.append(player_ids)\n",
        "    if player_summoner == 'LG Hunter 1':\n",
        "      my_gameid = i\n",
        "\n",
        "  my_details = {}\n",
        "  for player_details in row.participant_details:\n",
        "    if(player_details['participantId'] == my_gameid):\n",
        "      #my_details.append(player_details['teamId]'])\n",
        "      my_team = player_details['teamId']\n",
        "  my_details_all.append(my_details)\n",
        "\n",
        "  #Team dictionaries\n",
        "  team_stats = {}\n",
        "  for key in row.team_1_stats:\n",
        "    if key not in ['dominionVictoryScore','vilemawKills','bans']:\n",
        "      if row['team_1_stats']['teamId'] == my_team: #if I'm on team 1\n",
        "        team_stats[key+'_myTeam'] = row['team_1_stats'][key]\n",
        "        team_stats[key+'_enemyTeam'] = row['team_2_stats'][key]\n",
        "      elif row['team_2_stats']['teamId'] == my_team: #if I'm on team 2\n",
        "        team_stats[key+'_myTeam'] = row['team_2_stats'][key] \n",
        "        team_stats[key+'_enemyTeam'] = row['team_1_stats'][key]\n",
        "  team_stats_all.append(team_stats)\n"
      ],
      "execution_count": 136,
      "outputs": []
    },
    {
      "cell_type": "code",
      "metadata": {
        "colab": {
          "base_uri": "https://localhost:8080/"
        },
        "id": "4fwTp2U6kPC9",
        "outputId": "0f00a514-b77d-449a-f235-0c90a8f2b733"
      },
      "source": [
        "player_ids_all\n",
        "team_stats_all"
      ],
      "execution_count": 137,
      "outputs": [
        {
          "output_type": "execute_result",
          "data": {
            "text/plain": [
              "{'participantName_0': 'tila04',\n",
              " 'participantName_1': 'Outplay Mochine',\n",
              " 'participantName_2': 'C4Akbar',\n",
              " 'participantName_3': 'Cha Min Oh ',\n",
              " 'participantName_4': 'gawappo ',\n",
              " 'participantName_5': 'AbsoluteBot',\n",
              " 'participantName_6': 'Suck My Cakes',\n",
              " 'participantName_7': 'Vonpuppin',\n",
              " 'participantName_8': 'LG Hunter 1',\n",
              " 'participantName_9': 'Jstocks'}"
            ]
          },
          "metadata": {
            "tags": []
          },
          "execution_count": 137
        }
      ]
    }
  ]
}